{
 "cells": [
  {
   "cell_type": "markdown",
   "source": [
    "# Monopoly"
   ],
   "metadata": {
    "collapsed": false
   }
  },
  {
   "cell_type": "code",
   "execution_count": 9,
   "outputs": [
    {
     "name": "stdout",
     "output_type": "stream",
     "text": [
      "The autoreload extension is already loaded. To reload it, use:\n",
      "  %reload_ext autoreload\n"
     ]
    }
   ],
   "source": [
    "%load_ext autoreload\n",
    "%autoreload 2"
   ],
   "metadata": {
    "collapsed": false
   }
  },
  {
   "cell_type": "code",
   "execution_count": 10,
   "outputs": [],
   "source": [
    "from doctest import testmod, ELLIPSIS, NORMALIZE_WHITESPACE\n",
    "from pprint import pprint"
   ],
   "metadata": {
    "collapsed": false
   }
  },
  {
   "cell_type": "code",
   "execution_count": 11,
   "outputs": [],
   "source": [
    "import monopoly.v1.board\n",
    "from monopoly.v2 import board, die, monopoly_game, player, square"
   ],
   "metadata": {
    "collapsed": false
   }
  },
  {
   "cell_type": "code",
   "execution_count": 12,
   "outputs": [],
   "source": [
    "def run_tests(*modules):\n",
    "    if len(modules) == 1:\n",
    "        return testmod(modules[0], optionflags=ELLIPSIS | NORMALIZE_WHITESPACE)\n",
    "    else:\n",
    "        return [run_tests(mod) for mod in modules]"
   ],
   "metadata": {
    "collapsed": false
   }
  },
  {
   "cell_type": "code",
   "execution_count": 13,
   "outputs": [
    {
     "data": {
      "text/plain": "TestResults(failed=0, attempted=3)"
     },
     "execution_count": 13,
     "metadata": {},
     "output_type": "execute_result"
    }
   ],
   "source": [
    "run_tests(monopoly.v1.board)"
   ],
   "metadata": {
    "collapsed": false
   }
  },
  {
   "cell_type": "code",
   "execution_count": 14,
   "outputs": [
    {
     "data": {
      "text/plain": "[TestResults(failed=0, attempted=11),\n TestResults(failed=0, attempted=4),\n TestResults(failed=0, attempted=1),\n TestResults(failed=0, attempted=6),\n TestResults(failed=0, attempted=0)]"
     },
     "execution_count": 14,
     "metadata": {},
     "output_type": "execute_result"
    }
   ],
   "source": [
    "run_tests(monopoly.v2.board, monopoly.v2.die, monopoly.v2.monopoly_game,\n",
    "          monopoly.v2.player, monopoly.v2.square)"
   ],
   "metadata": {
    "collapsed": false
   }
  },
  {
   "cell_type": "code",
   "execution_count": 15,
   "outputs": [],
   "source": [
    "game = monopoly.v2.monopoly_game.MonopolyGame(4)"
   ],
   "metadata": {
    "collapsed": false
   }
  },
  {
   "cell_type": "code",
   "execution_count": 16,
   "outputs": [
    {
     "name": "stdout",
     "output_type": "stream",
     "text": [
      "MonopolyGame(num_players=4,\n",
      "             players=[Player(name='Player 1', piece=<PieceName.TOP_HAT: 'Top Hat'>, location=GoSquare(name='Go', index=0)),\n",
      "                      Player(name='Player 2', piece=<PieceName.THIMBLE: 'Thimble'>, location=GoSquare(name='Go', index=0)),\n",
      "                      Player(name='Player 3', piece=<PieceName.IRON: 'Iron'>, location=GoSquare(name='Go', index=0)),\n",
      "                      Player(name='Player 4', piece=<PieceName.SHOE: 'Shoe'>, location=GoSquare(name='Go', index=0))])\n"
     ]
    }
   ],
   "source": [
    "pprint(game)"
   ],
   "metadata": {
    "collapsed": false
   }
  },
  {
   "cell_type": "code",
   "execution_count": 8,
   "outputs": [],
   "source": [],
   "metadata": {
    "collapsed": false
   }
  }
 ],
 "metadata": {
  "kernelspec": {
   "display_name": "Python 3",
   "language": "python",
   "name": "python3"
  },
  "language_info": {
   "codemirror_mode": {
    "name": "ipython",
    "version": 2
   },
   "file_extension": ".py",
   "mimetype": "text/x-python",
   "name": "python",
   "nbconvert_exporter": "python",
   "pygments_lexer": "ipython2",
   "version": "2.7.6"
  }
 },
 "nbformat": 4,
 "nbformat_minor": 0
}
