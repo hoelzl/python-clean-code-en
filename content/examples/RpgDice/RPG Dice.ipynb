{
 "cells": [
  {
   "cell_type": "markdown",
   "source": [
    "# RPG Dice"
   ],
   "metadata": {
    "collapsed": false
   }
  },
  {
   "cell_type": "code",
   "execution_count": 1,
   "outputs": [],
   "source": [
    "%load_ext autoreload\n",
    "%autoreload 2"
   ],
   "metadata": {
    "collapsed": false
   }
  },
  {
   "cell_type": "code",
   "execution_count": 2,
   "outputs": [],
   "source": [
    "import random\n",
    "from doctest import testmod\n",
    "from typing import Optional"
   ],
   "metadata": {
    "collapsed": false
   }
  },
  {
   "cell_type": "code",
   "execution_count": 3,
   "outputs": [],
   "source": [
    "import rpgdice.dice\n",
    "from rpgdice.dice import Dice, ConstantDice, FairDice, SimpleDie, SumDice, create_dice"
   ],
   "metadata": {
    "collapsed": false
   }
  },
  {
   "cell_type": "code",
   "execution_count": 4,
   "outputs": [
    {
     "data": {
      "text/plain": "TestResults(failed=0, attempted=15)"
     },
     "execution_count": 4,
     "metadata": {},
     "output_type": "execute_result"
    }
   ],
   "source": [
    "testmod(rpgdice.dice)"
   ],
   "metadata": {
    "collapsed": false
   }
  },
  {
   "cell_type": "code",
   "execution_count": 5,
   "outputs": [],
   "source": [
    "def roll_dice(\n",
    "    spec: str = \"2d20\",\n",
    "    num_rolls: int = 1,\n",
    "    random_seed: Optional[int] = None,\n",
    "):\n",
    "    dice = create_dice(spec)\n",
    "    if random_seed is not None:\n",
    "        random.seed(random_seed)\n",
    "    if num_rolls == 1:\n",
    "        print(\"The result is:\", dice.roll())\n",
    "    else:\n",
    "        print(\"The results are:\")\n",
    "        for _ in range(num_rolls):\n",
    "            print(dice.roll())"
   ],
   "metadata": {
    "collapsed": false
   }
  },
  {
   "cell_type": "code",
   "execution_count": 6,
   "outputs": [
    {
     "name": "stdout",
     "output_type": "stream",
     "text": [
      "The result is: 10\n"
     ]
    }
   ],
   "source": [
    "roll_dice()"
   ],
   "metadata": {
    "collapsed": false
   }
  },
  {
   "cell_type": "code",
   "execution_count": 6,
   "outputs": [],
   "source": [],
   "metadata": {
    "collapsed": false
   }
  }
 ],
 "metadata": {
  "kernelspec": {
   "display_name": "Python 3",
   "language": "python",
   "name": "python3"
  },
  "language_info": {
   "codemirror_mode": {
    "name": "ipython",
    "version": 2
   },
   "file_extension": ".py",
   "mimetype": "text/x-python",
   "name": "python",
   "nbconvert_exporter": "python",
   "pygments_lexer": "ipython2",
   "version": "2.7.6"
  }
 },
 "nbformat": 4,
 "nbformat_minor": 0
}
